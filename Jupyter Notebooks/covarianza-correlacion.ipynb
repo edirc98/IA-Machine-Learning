{
 "cells": [
  {
   "cell_type": "markdown",
   "metadata": {
    "deletable": true,
    "editable": true
   },
   "source": [
    "# Covariaza y Correlación"
   ]
  },
  {
   "cell_type": "code",
   "execution_count": 23,
   "metadata": {
    "collapsed": false,
    "deletable": true,
    "editable": true
   },
   "outputs": [
    {
     "name": "stdout",
     "output_type": "stream",
     "text": [
      "Covarianza\n",
      "[[ 10.66666667   4.        ]\n",
      " [  4.           2.        ]]\n",
      "Corralación\n",
      "[[ 1.         0.8660254]\n",
      " [ 0.8660254  1.       ]]\n"
     ]
    },
    {
     "data": {
      "image/png": "[encoded data removed]",
      "text/plain": [
       "<matplotlib.figure.Figure at 0x1a210db1ba8>"
      ]
     },
     "metadata": {},
     "output_type": "display_data"
    }
   ],
   "source": [
    "%matplotlib inline\n",
    "\n",
    "import numpy as np\n",
    "from pylab import *\n",
    "\n",
    "datosX = [0,4,8]\n",
    "datosY = [5,5,8]\n",
    "\n",
    "scatter(datosX, datosY)\n",
    "\n",
    "print(\"Covarianza\")\n",
    "#By default numpy.cov calculates the sample covariance. \n",
    "#To obtain the population covariance you can specify normalisation by the total N sample\n",
    "print(np.cov(datosX, datosY, bias=True))\n",
    "print(\"Corralación\")\n",
    "print(np.corrcoef(datosX, datosY))\n",
    "\n"
   ]
  },
  {
   "cell_type": "markdown",
   "metadata": {
    "deletable": true,
    "editable": true
   },
   "source": [
    "## Actividad\n",
    "\n",
    "Hacer cambios en los puntos para crear una correlación perfecta. "
   ]
  },
  {
   "cell_type": "code",
   "execution_count": null,
   "metadata": {
    "collapsed": true
   },
   "outputs": [],
   "source": []
  }
 ],
 "metadata": {
  "kernelspec": {
   "display_name": "Python 3",
   "language": "python",
   "name": "python3"
  },
  "language_info": {
   "codemirror_mode": {
    "name": "ipython",
    "version": 3
   },
   "file_extension": ".py",
   "mimetype": "text/x-python",
   "name": "python",
   "nbconvert_exporter": "python",
   "pygments_lexer": "ipython3",
   "version": "3.5.2"
  }
 },
 "nbformat": 4,
 "nbformat_minor": 0
}
