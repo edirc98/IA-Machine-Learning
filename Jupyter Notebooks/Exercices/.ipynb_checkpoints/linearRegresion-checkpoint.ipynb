{
 "cells": [
  {
   "cell_type": "code",
   "execution_count": 35,
   "metadata": {},
   "outputs": [
    {
     "name": "stdout",
     "output_type": "stream",
     "text": [
      "0.6360785171747269\n"
     ]
    },
    {
     "data": {
      "text/plain": [
       "[<matplotlib.lines.Line2D at 0x26d53912670>]"
      ]
     },
     "execution_count": 35,
     "metadata": {},
     "output_type": "execute_result"
    },
    {
     "data": {
      "image/png": "[encoded data removed]",
      "text/plain": [
       "<Figure size 432x288 with 1 Axes>"
      ]
     },
     "metadata": {
      "needs_background": "light"
     },
     "output_type": "display_data"
    }
   ],
   "source": [
    "import matplotlib as plt\n",
    "import numpy as np\n",
    "from pylab import *\n",
    "\n",
    "%matplotlib inline\n",
    "\n",
    "alturas = [187,178,181,186,187,183,186,190,172,173,189]\n",
    "manos = [20,19,19.5,20,19,20.5,20.5,20,18.5,18,20.5]\n",
    "def createModel(dataX,dataY):\n",
    "    stdX = np.std(dataX)\n",
    "    stdY = np.std(dataY)\n",
    "    corr = np.corrcoef(dataX, dataY)\n",
    "    slope = corr[0][1]*(stdY/stdX)\n",
    "    yIntersec = np.mean(dataY) - (slope * np.mean(dataX))\n",
    "    return slope,yIntersec\n",
    "\n",
    "def rSquare(dataX,dataY,slope,b):\n",
    "    predictedY = []\n",
    "    for x in dataX: \n",
    "        predictedY.append(slope * x +  b)\n",
    "        \n",
    "    dataMean = np.mean(dataY)\n",
    "    #diff predicted - data mean\n",
    "    diffPM = []\n",
    "    for y in predictedY:\n",
    "        diffPM.append((y - dataMean)**2)\n",
    "    #diff real - data mean\n",
    "    diffRM = []\n",
    "    for r in dataY:\n",
    "        diffRM.append((r - dataMean)**2)\n",
    "    #Sumatory of lists to get R*\n",
    "    R = sum(diffPM)/sum(diffRM)\n",
    "    return R\n",
    "    \n",
    "\n",
    "slope,b = createModel(alturas,manos)\n",
    "r = rSquare(alturas,manos,slope,b)\n",
    "print(r) \n",
    "#y = []\n",
    "#for x in alturas:\n",
    "#    y.append(slope*x +  b)\n",
    "    \n",
    "x = np.linspace(170,195,50)\n",
    "ypredict = slope * x +  b\n",
    "    \n",
    "plt.scatter(alturas,manos)\n",
    "plt.plot(x, ypredict, c='r')\n",
    "#plt.show()"
   ]
  }
 ],
 "metadata": {
  "kernelspec": {
   "display_name": "Python 3",
   "language": "python",
   "name": "python3"
  },
  "language_info": {
   "codemirror_mode": {
    "name": "ipython",
    "version": 3
   },
   "file_extension": ".py",
   "mimetype": "text/x-python",
   "name": "python",
   "nbconvert_exporter": "python",
   "pygments_lexer": "ipython3",
   "version": "3.8.5"
  }
 },
 "nbformat": 4,
 "nbformat_minor": 4
}
