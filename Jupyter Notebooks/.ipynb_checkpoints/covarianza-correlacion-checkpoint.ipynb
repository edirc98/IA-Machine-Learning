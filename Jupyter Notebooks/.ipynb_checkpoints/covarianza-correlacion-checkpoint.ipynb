{
 "cells": [
  {
   "cell_type": "markdown",
   "metadata": {},
   "source": [
    "# Covariaza y Correlación"
   ]
  },
  {
   "cell_type": "code",
   "execution_count": 9,
   "metadata": {},
   "outputs": [
    {
     "name": "stdout",
     "output_type": "stream",
     "text": [
      "Covarianza\n",
      "[[10.66666667  4.        ]\n",
      " [ 4.          1.5       ]]\n",
      "Corralación\n",
      "[[1. 1.]\n",
      " [1. 1.]]\n"
     ]
    },
    {
     "data": {
      "image/png": "[encoded data removed]",
      "text/plain": [
       "<Figure size 432x288 with 1 Axes>"
      ]
     },
     "metadata": {
      "needs_background": "light"
     },
     "output_type": "display_data"
    }
   ],
   "source": [
    "%matplotlib inline\n",
    "\n",
    "import numpy as np\n",
    "from pylab import *\n",
    "\n",
    "datosX = [0,4,8]\n",
    "datosY = [5,6.5,8]\n",
    "\n",
    "scatter(datosX, datosY)\n",
    "\n",
    "print(\"Covarianza\")\n",
    "#By default numpy.cov calculates the sample covariance. \n",
    "#To obtain the population covariance you can specify normalisation by the total N sample\n",
    "print(np.cov(datosX, datosY, bias=True))\n",
    "print(\"Corralación\")\n",
    "print(np.corrcoef(datosX, datosY))\n",
    "\n"
   ]
  },
  {
   "cell_type": "markdown",
   "metadata": {},
   "source": [
    "## Actividad\n",
    "\n",
    "Hacer cambios en los puntos para crear una correlación perfecta. º"
   ]
  },
  {
   "cell_type": "code",
   "execution_count": 12,
   "metadata": {},
   "outputs": [
    {
     "name": "stdout",
     "output_type": "stream",
     "text": [
      "Covarianza\n",
      "[[34.99173554  3.87190083]\n",
      " [ 3.87190083  0.67355372]]\n",
      "Corralación\n",
      "[[1.         0.79754531]\n",
      " [0.79754531 1.        ]]\n"
     ]
    },
    {
     "data": {
      "image/png": "[encoded data removed]",
      "text/plain": [
       "<Figure size 432x288 with 1 Axes>"
      ]
     },
     "metadata": {
      "needs_background": "light"
     },
     "output_type": "display_data"
    }
   ],
   "source": [
    "import matplotlib as plt\n",
    "import numpy as np\n",
    "from pylab import *\n",
    "\n",
    "%matplotlib inline\n",
    "\n",
    "alturas = [187,178,181,186,187,183,186,190,172,173,189]\n",
    "manos = [20,19,19.5,20,19,20.5,20.5,20,18.5,18,20.5]\n",
    "\n",
    "scatter(alturas, manos)\n",
    "\n",
    "print(\"Covarianza\")\n",
    "print(np.cov(alturas, manos, bias=True))\n",
    "print(\"Corralación\")\n",
    "print(np.corrcoef(alturas, manos))\n"
   ]
  }
 ],
 "metadata": {
  "kernelspec": {
   "display_name": "Python 3",
   "language": "python",
   "name": "python3"
  },
  "language_info": {
   "codemirror_mode": {
    "name": "ipython",
    "version": 3
   },
   "file_extension": ".py",
   "mimetype": "text/x-python",
   "name": "python",
   "nbconvert_exporter": "python",
   "pygments_lexer": "ipython3",
   "version": "3.8.5"
  }
 },
 "nbformat": 4,
 "nbformat_minor": 1
}
